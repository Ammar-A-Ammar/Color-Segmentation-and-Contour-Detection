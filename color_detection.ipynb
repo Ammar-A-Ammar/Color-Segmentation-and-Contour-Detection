{
  "nbformat": 4,
  "nbformat_minor": 0,
  "metadata": {
    "colab": {
      "provenance": []
    },
    "kernelspec": {
      "name": "python3",
      "display_name": "Python 3"
    },
    "language_info": {
      "name": "python"
    }
  },
  "cells": [
    {
      "cell_type": "code",
      "execution_count": 3,
      "metadata": {
        "id": "S64R7n1yzNf1"
      },
      "outputs": [],
      "source": [
        "import cv2\n",
        "import numpy as np\n",
        "from google.colab.patches import cv2_imshow"
      ]
    },
    {
      "cell_type": "code",
      "source": [
        "from google.colab import drive\n",
        "drive.mount('/content/drive')"
      ],
      "metadata": {
        "colab": {
          "base_uri": "https://localhost:8080/"
        },
        "id": "3QcVDwnuz3bb",
        "outputId": "2f44958d-9b29-49c5-dfcd-14ce48ffe587"
      },
      "execution_count": 4,
      "outputs": [
        {
          "output_type": "stream",
          "name": "stdout",
          "text": [
            "Mounted at /content/drive\n"
          ]
        }
      ]
    },
    {
      "cell_type": "code",
      "source": [
        "# Load the image (replace 'your_image.jpg' with the actual file path)\n",
        "image1 = cv2.imread('/content/drive/MyDrive/Image_processing/colors_circles.png')\n",
        "image2 = cv2.imread('/content/drive/MyDrive/Image_processing/colors_circles_big.png')\n",
        "image3 = cv2.imread('/content/drive/MyDrive/Image_processing/colorstar-opt.jpg')\n",
        "image4 = cv2.imread(\"/content/drive/MyDrive/Image_processing/colors_name_verybig.webp\")\n",
        "image5 = cv2.imread(\"/content/drive/MyDrive/Image_processing/cat.jpeg\")\n",
        "\n",
        "\n",
        "# Convert the image from BGR to RGB\n",
        "#image_rgb = cv2.cvtColor(image, cv2.COLOR_BGR2RGB)\n",
        "image_rgb=image1"
      ],
      "metadata": {
        "id": "Q2I1ihG2zhff"
      },
      "execution_count": 5,
      "outputs": []
    },
    {
      "cell_type": "code",
      "source": [
        "# Define the lower and upper bounds for red color in RGB\n",
        "lower_red = np.array([0, 0, 200])\n",
        "upper_red = np.array([50, 50, 255])\n",
        "\n",
        "# Define the lower and upper bounds for green color in RGB\n",
        "lower_green = np.array([0, 200, 0])\n",
        "upper_green = np.array([50, 255, 50])"
      ],
      "metadata": {
        "id": "9vsrDBgBznjF"
      },
      "execution_count": 6,
      "outputs": []
    },
    {
      "cell_type": "code",
      "source": [
        "# Create masks for red and green objects\n",
        "mask_red = cv2.inRange(image_rgb, lower_red, upper_red)\n",
        "mask_green = cv2.inRange(image_rgb, lower_green, upper_green)\n",
        "\n",
        "# Find contours in the masks\n",
        "contours_red, _ = cv2.findContours(mask_red, cv2.RETR_EXTERNAL, cv2.CHAIN_APPROX_SIMPLE)\n",
        "contours_green, _ = cv2.findContours(mask_green, cv2.RETR_EXTERNAL, cv2.CHAIN_APPROX_SIMPLE)"
      ],
      "metadata": {
        "id": "t5OJpCpFztkw"
      },
      "execution_count": 7,
      "outputs": []
    },
    {
      "cell_type": "code",
      "source": [
        "# Draw bounding boxes around red objects\n",
        "for contour in contours_red:\n",
        "    x, y, w, h = cv2.boundingRect(contour)\n",
        "    cv2.rectangle(image_rgb, (x, y), (x + w, y + h), (0, 0, 0), 2)\n",
        "\n",
        "# Draw bounding boxes around green objects\n",
        "for contour in contours_green:\n",
        "    x, y, w, h = cv2.boundingRect(contour)\n",
        "    cv2.rectangle(image_rgb, (x, y), (x + w, y + h), (0, 0, 0), 2)"
      ],
      "metadata": {
        "id": "G-h-SQ9hzw7B"
      },
      "execution_count": 8,
      "outputs": []
    },
    {
      "cell_type": "code",
      "source": [
        "# Display the result\n",
        "cv2_imshow(image_rgb)\n",
        "''' cv2.imshow('Bounding Boxes', image_rgb)\n",
        "cv2.waitKey(0)\n",
        "cv2.destroyAllWindows() '''"
      ],
      "metadata": {
        "colab": {
          "base_uri": "https://localhost:8080/",
          "height": 219
        },
        "id": "V0GKxcfYzzL7",
        "outputId": "21742d78-cdf5-442c-d3bf-38d343a1a9d3"
      },
      "execution_count": 9,
      "outputs": [
        {
          "output_type": "display_data",
          "data": {
            "text/plain": [
              "<PIL.Image.Image image mode=RGB size=276x183>"
            ],
            "image/png": "[encoded data removed]"
          },
          "metadata": {}
        },
        {
          "output_type": "execute_result",
          "data": {
            "text/plain": [
              "\" cv2.imshow('Bounding Boxes', image_rgb)\\ncv2.waitKey(0)\\ncv2.destroyAllWindows() \""
            ],
            "application/vnd.google.colaboratory.intrinsic+json": {
              "type": "string"
            }
          },
          "metadata": {},
          "execution_count": 9
        }
      ]
    }
  ]
}